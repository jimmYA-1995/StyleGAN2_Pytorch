{
 "cells": [
  {
   "cell_type": "code",
   "execution_count": 1,
   "metadata": {},
   "outputs": [],
   "source": [
    "from pathlib import Path\n",
    "from tqdm import tqdm\n",
    "\n",
    "import torch\n",
    "import numpy as np\n",
    "from PIL import Image\n",
    "from IPython.display import display\n",
    "\n",
    "from models import Generator"
   ]
  },
  {
   "cell_type": "code",
   "execution_count": 2,
   "metadata": {},
   "outputs": [],
   "source": [
    "device = 'cuda' # 'cpu'\n",
    "LATENT_SIZE = 512\n",
    "LABEL_SIZE  = 2 # #classes\n",
    "EMBEDDING_SIZE = 1\n",
    "RESOLUTION  = 128\n",
    "# CKPT_PATH = '/home/dgx/yct/StyleGAN2_Pytorch/results/00016-1gpu-itri/checkpoints/ckpt-200000.pt' # es2\n",
    "CKPT_PATH = '/home/dgx/yct/StyleGAN2_Pytorch/results/00006-1gpu-itri-noaug-finetune/checkpoints/ckpt-297500.pt' # es1\n",
    "BATCH_SIZE = 40\n",
    "OUT_DIR = Path('~/yct/samples_0930/').expanduser()\n",
    "if not OUT_DIR.exists():\n",
    "    OUT_DIR.mkdir()"
   ]
  },
  {
   "cell_type": "code",
   "execution_count": 3,
   "metadata": {},
   "outputs": [],
   "source": [
    "ckpt = torch.load(CKPT_PATH)['g_ema']"
   ]
  },
  {
   "cell_type": "code",
   "execution_count": 4,
   "metadata": {},
   "outputs": [
    {
     "data": {
      "text/plain": [
       "<All keys matched successfully>"
      ]
     },
     "execution_count": 4,
     "metadata": {},
     "output_type": "execute_result"
    }
   ],
   "source": [
    "g_ema = Generator(LATENT_SIZE, LABEL_SIZE, RESOLUTION, embedding_size=EMBEDDING_SIZE, is_training=False).to(device)\n",
    "g_ema.eval()\n",
    "g_ema.load_state_dict(ckpt)"
   ]
  },
  {
   "cell_type": "code",
   "execution_count": 6,
   "metadata": {},
   "outputs": [],
   "source": [
    "class Args:\n",
    "    cfg = 'experiments/itri.yml'\n",
    "config = update_config(config, Args())"
   ]
  },
  {
   "cell_type": "markdown",
   "metadata": {},
   "source": [
    "### generate dataset"
   ]
  },
  {
   "cell_type": "code",
   "execution_count": 5,
   "metadata": {},
   "outputs": [
    {
     "name": "stderr",
     "output_type": "stream",
     "text": [
      "  0%|          | 0/2500 [00:00<?, ?it/s]"
     ]
    },
    {
     "name": "stdout",
     "output_type": "stream",
     "text": [
      "NG\n"
     ]
    },
    {
     "name": "stderr",
     "output_type": "stream",
     "text": [
      "100%|██████████| 2500/2500 [28:28<00:00,  1.46it/s]\n",
      "  0%|          | 0/2500 [00:00<?, ?it/s]"
     ]
    },
    {
     "name": "stdout",
     "output_type": "stream",
     "text": [
      "OK\n"
     ]
    },
    {
     "name": "stderr",
     "output_type": "stream",
     "text": [
      "100%|██████████| 2500/2500 [28:29<00:00,  1.46it/s]\n"
     ]
    }
   ],
   "source": [
    "from tqdm import tqdm\n",
    "SUB_CLASS = ['NG', 'OK']\n",
    "for sub in SUB_CLASS:\n",
    "    (OUT_DIR / sub).mkdir()\n",
    "\n",
    "idx = 0\n",
    "for i in range(LABEL_SIZE):\n",
    "    print(SUB_CLASS[i])\n",
    "    for b in tqdm(range(2500)):\n",
    "        noise = [torch.randn(BATCH_SIZE, LATENT_SIZE).to(device)]\n",
    "        fake_label = torch.full((BATCH_SIZE,), i, dtype=torch.long).to(device)\n",
    "\n",
    "        samples = g_ema(noise, labels_in=fake_label)[0].cpu().detach().numpy()\n",
    "        samples = np.clip(samples * 127.5 + 127.5, 0, 255).astype(np.uint8)\n",
    "        samples = np.moveaxis(samples, 1, -1)\n",
    "\n",
    "        for j, img in enumerate(samples):\n",
    "            Image.fromarray(img).save(OUT_DIR / SUB_CLASS[i] / f'{SUB_CLASS[i]}-{str(idx).zfill(6)}.png')\n",
    "            idx += 1\n",
    "        \n",
    "    # grid image\n",
    "#     grid_img = Image.fromarray(gallery(samples))\n",
    "#     grid_img.save(OUT_DIR / SUB_CLASS[i] / 'grid.png')\n",
    "#     display(grid_img)"
   ]
  }
 ],
 "metadata": {
  "kernelspec": {
   "display_name": "stylegan2",
   "language": "python",
   "name": "stylegan2"
  },
  "language_info": {
   "codemirror_mode": {
    "name": "ipython",
    "version": 3
   },
   "file_extension": ".py",
   "mimetype": "text/x-python",
   "name": "python",
   "nbconvert_exporter": "python",
   "pygments_lexer": "ipython3",
   "version": "3.6.10"
  }
 },
 "nbformat": 4,
 "nbformat_minor": 4
}
