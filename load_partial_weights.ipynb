{
 "cells": [
  {
   "cell_type": "code",
   "execution_count": 1,
   "metadata": {},
   "outputs": [],
   "source": [
    "import os \n",
    "os.environ['CUDA_VISIBLE_DEVICES'] = '1'"
   ]
  },
  {
   "cell_type": "code",
   "execution_count": 2,
   "metadata": {},
   "outputs": [],
   "source": [
    "import pickle\n",
    "import itertools\n",
    "from pathlib import Path\n",
    "\n",
    "import numpy as np\n",
    "import torch\n",
    "# from torchsummary import summary\n",
    "from models import Generator, Discriminator"
   ]
  },
  {
   "cell_type": "code",
   "execution_count": 3,
   "metadata": {},
   "outputs": [],
   "source": [
    "g = Generator(512, 0, 256, extra_channels=1, is_training=True)# .to('cuda')"
   ]
  },
  {
   "cell_type": "code",
   "execution_count": 4,
   "metadata": {},
   "outputs": [],
   "source": [
    "d = Discriminator(0, 256, extra_channels=1) #.to(self.device)"
   ]
  },
  {
   "cell_type": "code",
   "execution_count": 5,
   "metadata": {},
   "outputs": [],
   "source": [
    "g_ema = Generator(512, 0, 256, extra_channels=1, is_training=False)"
   ]
  },
  {
   "cell_type": "code",
   "execution_count": 6,
   "metadata": {},
   "outputs": [],
   "source": [
    "ckpt_path = Path(\"~/tmp/deepfashion_finetune/checkpoints/ckpt-105000.pt\").expanduser()"
   ]
  },
  {
   "cell_type": "code",
   "execution_count": 7,
   "metadata": {},
   "outputs": [
    {
     "data": {
      "text/plain": [
       "105000"
      ]
     },
     "execution_count": 7,
     "metadata": {},
     "output_type": "execute_result"
    }
   ],
   "source": [
    "# print('load model:', config.TRAIN.CKPT)\n",
    "ckpt = torch.load(ckpt_path)\n",
    "\n",
    "try:\n",
    "    start_iter = int(ckpt_path.stem.split('-')[1])\n",
    "except ValueError:\n",
    "    print('**** load ckpt failed. start from scratch ****')\n",
    "    pass\n",
    "start_iter"
   ]
  },
  {
   "cell_type": "code",
   "execution_count": 11,
   "metadata": {},
   "outputs": [
    {
     "data": {
      "text/plain": [
       "['synthesis_network.trgbs.0.bias',\n",
       " 'synthesis_network.trgbs.0.upsample.kernel',\n",
       " 'synthesis_network.trgbs.0.conv.w',\n",
       " 'synthesis_network.trgbs.0.conv.dense.w',\n",
       " 'synthesis_network.trgbs.0.conv.dense.b',\n",
       " 'synthesis_network.trgbs.1.bias',\n",
       " 'synthesis_network.trgbs.1.upsample.kernel',\n",
       " 'synthesis_network.trgbs.1.conv.w',\n",
       " 'synthesis_network.trgbs.1.conv.dense.w',\n",
       " 'synthesis_network.trgbs.1.conv.dense.b',\n",
       " 'synthesis_network.trgbs.2.bias',\n",
       " 'synthesis_network.trgbs.2.upsample.kernel',\n",
       " 'synthesis_network.trgbs.2.conv.w',\n",
       " 'synthesis_network.trgbs.2.conv.dense.w',\n",
       " 'synthesis_network.trgbs.2.conv.dense.b',\n",
       " 'synthesis_network.trgbs.3.bias',\n",
       " 'synthesis_network.trgbs.3.upsample.kernel',\n",
       " 'synthesis_network.trgbs.3.conv.w',\n",
       " 'synthesis_network.trgbs.3.conv.dense.w',\n",
       " 'synthesis_network.trgbs.3.conv.dense.b',\n",
       " 'synthesis_network.trgbs.4.bias',\n",
       " 'synthesis_network.trgbs.4.upsample.kernel',\n",
       " 'synthesis_network.trgbs.4.conv.w',\n",
       " 'synthesis_network.trgbs.4.conv.dense.w',\n",
       " 'synthesis_network.trgbs.4.conv.dense.b',\n",
       " 'synthesis_network.trgbs.5.bias',\n",
       " 'synthesis_network.trgbs.5.upsample.kernel',\n",
       " 'synthesis_network.trgbs.5.conv.w',\n",
       " 'synthesis_network.trgbs.5.conv.dense.w',\n",
       " 'synthesis_network.trgbs.5.conv.dense.b',\n",
       " 'synthesis_network.trgbs.6.bias',\n",
       " 'synthesis_network.trgbs.6.upsample.kernel',\n",
       " 'synthesis_network.trgbs.6.conv.w',\n",
       " 'synthesis_network.trgbs.6.conv.dense.w',\n",
       " 'synthesis_network.trgbs.6.conv.dense.b']"
      ]
     },
     "execution_count": 11,
     "metadata": {},
     "output_type": "execute_result"
    }
   ],
   "source": [
    "[x for x in ckpt['g'].keys() if 'trgb' in x]"
   ]
  },
  {
   "cell_type": "code",
   "execution_count": 13,
   "metadata": {},
   "outputs": [],
   "source": [
    "g_dict = {k: v for k,v in g.named_parameters()}"
   ]
  },
  {
   "cell_type": "code",
   "execution_count": 20,
   "metadata": {},
   "outputs": [],
   "source": [
    "# generator\n",
    "for k,v in g.named_parameters():\n",
    "    if 'trgb' in k:\n",
    "        if 'conv.w' in k:\n",
    "            with torch.no_grad():\n",
    "                v[:3, ...].copy_(ckpt['g'][k])\n",
    "        elif 'bias' in k:\n",
    "            with torch.no_grad():\n",
    "                v[:, :3, ...].copy_(ckpt['g'][k])\n",
    "        else:\n",
    "            with torch.no_grad():\n",
    "                v.copy_(ckpt['g'][k])\n",
    "            \n",
    "    else:\n",
    "        with torch.no_grad():\n",
    "            v.copy_(ckpt['g'][k])\n",
    "        # fix other weights\n",
    "        v.requires_grad = False "
   ]
  },
  {
   "cell_type": "code",
   "execution_count": 25,
   "metadata": {},
   "outputs": [],
   "source": [
    "# descriminator\n",
    "for k,v in d.named_parameters():\n",
    "    if 'frgb' in k:\n",
    "        if 'conv.w' in k:\n",
    "            with torch.no_grad():\n",
    "                v[:, :3, ...].copy_(ckpt['d'][k])\n",
    "        else:\n",
    "            with torch.no_grad():\n",
    "                v.copy_(ckpt['d'][k])\n",
    "    else:\n",
    "        with torch.no_grad():\n",
    "            v.copy_(ckpt['d'][k])\n",
    "        # fix other weights\n",
    "        v.requires_grad = False "
   ]
  },
  {
   "cell_type": "code",
   "execution_count": 29,
   "metadata": {},
   "outputs": [
    {
     "data": {
      "text/plain": [
       "True"
      ]
     },
     "execution_count": 29,
     "metadata": {},
     "output_type": "execute_result"
    }
   ],
   "source": [
    "v.requires_grad"
   ]
  }
 ],
 "metadata": {
  "kernelspec": {
   "display_name": "stylegan2",
   "language": "python",
   "name": "stylegan2"
  },
  "language_info": {
   "codemirror_mode": {
    "name": "ipython",
    "version": 3
   },
   "file_extension": ".py",
   "mimetype": "text/x-python",
   "name": "python",
   "nbconvert_exporter": "python",
   "pygments_lexer": "ipython3",
   "version": "3.6.10"
  }
 },
 "nbformat": 4,
 "nbformat_minor": 4
}
